{
 "cells": [
  {
   "cell_type": "code",
   "execution_count": null,
   "metadata": {},
   "outputs": [],
   "source": [
    "#!wget https://raw.githubusercontent.com/opencampus-sh/einfuehrung-in-data-science-und-ml/main/wetter.csv\n",
    "#!wget https://raw.githubusercontent.com/opencampus-sh/einfuehrung-in-data-science-und-ml/main/kiwo.csv\n",
    "#!wget https://raw.githubusercontent.com/opencampus-sh/einfuehrung-in-data-science-und-ml/main/umsatzdaten_gekuerzt.csv"
   ]
  },
  {
   "cell_type": "code",
   "execution_count": 23,
   "metadata": {},
   "outputs": [
    {
     "name": "stdout",
     "output_type": "stream",
     "text": [
      "Weather\n",
      " has 2601 rows\n",
      "        Datum  Bewoelkung  Temperatur  Windgeschwindigkeit  Wettercode\n",
      "0  2012-01-01         8.0      9.8250                   14        58.0\n",
      "1  2012-01-02         7.0      7.4375                   12         NaN\n",
      "2  2012-01-03         8.0      5.5375                   18        63.0\n",
      "3  2012-01-04         4.0      5.6875                   19        80.0\n",
      "4  2012-01-05         6.0      5.3000                   23        80.0\n",
      "Kieler Woche\n",
      " has 72 rows\n",
      "        Datum  KielerWoche\n",
      "0  2012-06-16            1\n",
      "1  2012-06-17            1\n",
      "2  2012-06-18            1\n",
      "3  2012-06-19            1\n",
      "4  2012-06-20            1\n",
      "Sales\n",
      " has 9334 rows\n",
      "        Datum  Warengruppe      Umsatz\n",
      "0  2013-07-01            1  148.828353\n",
      "1  2013-07-02            1  159.793757\n",
      "2  2013-07-03            1  111.885594\n",
      "3  2013-07-04            1  168.864941\n",
      "4  2013-07-05            1  171.280754\n",
      "Holidays\n",
      " has 486 rows\n",
      "         date  summer  autumn  christmas  winter  easter  pentecoast\n",
      "0  2013-06-24       1       0          0       0       0           0\n",
      "1  2013-06-25       1       0          0       0       0           0\n",
      "2  2013-06-26       1       0          0       0       0           0\n",
      "3  2013-06-27       1       0          0       0       0           0\n",
      "4  2013-06-28       1       0          0       0       0           0\n"
     ]
    }
   ],
   "source": [
    "import pandas as pd\n",
    "import numpy as np\n",
    "\n",
    "weather_df = pd.read_csv(\"wetter.csv\")\n",
    "kiwo_df = pd.read_csv(\"kiwo.csv\")\n",
    "sales_df = pd.read_csv(\"umsatzdaten_gekuerzt.csv\")\n",
    "holidays_df = pd.read_csv(\"../0_DataPreparation/holidays.csv\")\n",
    "\n",
    "print(\"Weather\")\n",
    "print(f\" has {len(weather_df)} rows\")\n",
    "print(weather_df.head())\n",
    "print(\"Kieler Woche\")\n",
    "print(f\" has {len(kiwo_df)} rows\")\n",
    "print(kiwo_df.head())\n",
    "print(\"Sales\")\n",
    "print(f\" has {len(sales_df)} rows\")\n",
    "print(sales_df.head())\n",
    "print(\"Holidays\")\n",
    "print(f\" has {len(holidays_df)} rows\")\n",
    "print(holidays_df.head())"
   ]
  },
  {
   "cell_type": "code",
   "execution_count": 13,
   "metadata": {},
   "outputs": [
    {
     "name": "stdout",
     "output_type": "stream",
     "text": [
      "        Datum  Bewoelkung  Temperatur  Windgeschwindigkeit  Wettercode  \\\n",
      "0  2013-07-01         6.0     17.8375                   15        20.0   \n",
      "1  2013-07-01         6.0     17.8375                   15        20.0   \n",
      "2  2013-07-01         6.0     17.8375                   15        20.0   \n",
      "3  2013-07-01         6.0     17.8375                   15        20.0   \n",
      "4  2013-07-01         6.0     17.8375                   15        20.0   \n",
      "\n",
      "   KielerWoche  Warengruppe      Umsatz        date  summer  autumn  \\\n",
      "0          0.0            1  148.828353  2013-07-01       1       0   \n",
      "1          0.0            2  535.856285  2013-07-01       1       0   \n",
      "2          0.0            3  201.198426  2013-07-01       1       0   \n",
      "3          0.0            4   65.890169  2013-07-01       1       0   \n",
      "4          0.0            5  317.475875  2013-07-01       1       0   \n",
      "\n",
      "   christmas  winter  easter  pentecoast  \n",
      "0          0       0       0           0  \n",
      "1          0       0       0           0  \n",
      "2          0       0       0           0  \n",
      "3          0       0       0           0  \n",
      "4          0       0       0           0  \n"
     ]
    }
   ],
   "source": [
    "df = weather_df.merge(kiwo_df, on=\"Datum\", how=\"left\").merge(sales_df, on=\"Datum\").merge(holidays_df, left_on=\"Datum\", right_on=\"date\", suffixes=(\"\", \"holiday_\",))\n",
    "df.fillna({\"KielerWoche\": 0, \"holiday_sommer\": 0, \"holiday_autumn\": 0, \"holiday_christmas\": 0, \"holiday_winter\": 0, \"holiday_easter\": 0, \"holiday_pentecoast\": 0}, inplace=True)\n",
    "print(df.head())"
   ]
  },
  {
   "cell_type": "code",
   "execution_count": 16,
   "metadata": {},
   "outputs": [],
   "source": [
    "# Features\n",
    "#df[\"StartOfMonth\"] = df[df[\"Datum_dt\"].dt.day < 7]\n",
    "df['Datum_dt'] = pd.to_datetime(df['Datum'])\n",
    "df[\"StartOfMonth\"] = np.where(df[\"Datum_dt\"].dt.day < 7, 1, 0)\n"
   ]
  },
  {
   "cell_type": "code",
   "execution_count": 20,
   "metadata": {},
   "outputs": [
    {
     "data": {
      "text/html": [
       "<div>\n",
       "<style scoped>\n",
       "    .dataframe tbody tr th:only-of-type {\n",
       "        vertical-align: middle;\n",
       "    }\n",
       "\n",
       "    .dataframe tbody tr th {\n",
       "        vertical-align: top;\n",
       "    }\n",
       "\n",
       "    .dataframe thead th {\n",
       "        text-align: right;\n",
       "    }\n",
       "</style>\n",
       "<table border=\"1\" class=\"dataframe\">\n",
       "  <thead>\n",
       "    <tr style=\"text-align: right;\">\n",
       "      <th></th>\n",
       "      <th>Datum</th>\n",
       "      <th>Bewoelkung</th>\n",
       "      <th>Temperatur</th>\n",
       "      <th>Windgeschwindigkeit</th>\n",
       "      <th>Wettercode</th>\n",
       "      <th>KielerWoche</th>\n",
       "      <th>Warengruppe</th>\n",
       "      <th>Umsatz</th>\n",
       "      <th>date</th>\n",
       "      <th>summer</th>\n",
       "      <th>autumn</th>\n",
       "      <th>christmas</th>\n",
       "      <th>winter</th>\n",
       "      <th>easter</th>\n",
       "      <th>pentecoast</th>\n",
       "      <th>Datum_dt</th>\n",
       "      <th>StartOfMonth</th>\n",
       "    </tr>\n",
       "  </thead>\n",
       "  <tbody>\n",
       "    <tr>\n",
       "      <th>1694</th>\n",
       "      <td>2017-08-01</td>\n",
       "      <td>6.0</td>\n",
       "      <td>21.375</td>\n",
       "      <td>7</td>\n",
       "      <td>21.0</td>\n",
       "      <td>0.0</td>\n",
       "      <td>1</td>\n",
       "      <td>166.135486</td>\n",
       "      <td>2017-08-01</td>\n",
       "      <td>1</td>\n",
       "      <td>0</td>\n",
       "      <td>0</td>\n",
       "      <td>0</td>\n",
       "      <td>0</td>\n",
       "      <td>0</td>\n",
       "      <td>2017-08-01</td>\n",
       "      <td>1</td>\n",
       "    </tr>\n",
       "  </tbody>\n",
       "</table>\n",
       "</div>"
      ],
      "text/plain": [
       "           Datum  Bewoelkung  Temperatur  Windgeschwindigkeit  Wettercode  \\\n",
       "1694  2017-08-01         6.0      21.375                    7        21.0   \n",
       "\n",
       "      KielerWoche  Warengruppe      Umsatz        date  summer  autumn  \\\n",
       "1694          0.0            1  166.135486  2017-08-01       1       0   \n",
       "\n",
       "      christmas  winter  easter  pentecoast   Datum_dt  StartOfMonth  \n",
       "1694          0       0       0           0 2017-08-01             1  "
      ]
     },
     "execution_count": 20,
     "metadata": {},
     "output_type": "execute_result"
    }
   ],
   "source": [
    "df.sample()"
   ]
  },
  {
   "cell_type": "code",
   "execution_count": 19,
   "metadata": {},
   "outputs": [
    {
     "name": "stdout",
     "output_type": "stream",
     "text": [
      "Training Dataset length: 1694\n",
      "Validation Dataset length: 605\n"
     ]
    }
   ],
   "source": [
    "# Split (train and validation)\n",
    "\n",
    "train_df = df[(df[\"Datum_dt\"] >= \"01.07.2013\") & (df[\"Datum_dt\"] <= \"31.07.2017\")]\n",
    "validation_df = df[(df[\"Datum_dt\"] >= \"01.08.2017\") & (df[\"Datum_dt\"] <= \"31.07.2018\")]\n",
    "\n",
    "print(f\"Training Dataset length: {len(train_df)}\")\n",
    "print(f\"Validation Dataset length: {len(validation_df)}\")"
   ]
  },
  {
   "cell_type": "code",
   "execution_count": 21,
   "metadata": {},
   "outputs": [
    {
     "name": "stdout",
     "output_type": "stream",
     "text": [
      "                            OLS Regression Results                            \n",
      "==============================================================================\n",
      "Dep. Variable:                 Umsatz   R-squared:                       0.737\n",
      "Model:                            OLS   Adj. R-squared:                  0.733\n",
      "Method:                 Least Squares   F-statistic:                     188.1\n",
      "Date:                Mon, 27 May 2024   Prob (F-statistic):               0.00\n",
      "Time:                        18:12:35   Log-Likelihood:                -13018.\n",
      "No. Observations:                2184   AIC:                         2.610e+04\n",
      "Df Residuals:                    2151   BIC:                         2.629e+04\n",
      "Df Model:                          32                                         \n",
      "Covariance Type:            nonrobust                                         \n",
      "==================================================================================================================\n",
      "                                                     coef    std err          t      P>|t|      [0.025      0.975]\n",
      "------------------------------------------------------------------------------------------------------------------\n",
      "Intercept                                        148.5705      9.274     16.020      0.000     130.383     166.758\n",
      "C(Warengruppe)[T.2]                              281.4027     13.116     21.456      0.000     255.682     307.123\n",
      "C(Warengruppe)[T.3]                               10.1409     13.116      0.773      0.439     -15.579      35.861\n",
      "C(Warengruppe)[T.4]                              -61.9052     13.536     -4.573      0.000     -88.451     -35.359\n",
      "C(Warengruppe)[T.5]                              187.1581     13.116     14.270      0.000     161.438     212.879\n",
      "C(Warengruppe)[T.6]                              -83.5257     19.861     -4.206      0.000    -122.474     -44.577\n",
      "summer                                            -0.6076     11.580     -0.052      0.958     -23.317      22.102\n",
      "summer:C(Warengruppe)[T.2]                       166.0978     16.377     10.142      0.000     133.982     198.214\n",
      "summer:C(Warengruppe)[T.3]                       126.9563     16.377      7.752      0.000      94.840     159.072\n",
      "summer:C(Warengruppe)[T.4]                         2.7312     16.824      0.162      0.871     -30.261      35.723\n",
      "summer:C(Warengruppe)[T.5]                       -10.6745     16.377     -0.652      0.515     -42.790      21.441\n",
      "summer:C(Warengruppe)[T.6]                      7.413e-14   1.71e-13      0.433      0.665   -2.62e-13     4.1e-13\n",
      "autumn                                           -26.8255     15.175     -1.768      0.077     -56.585       2.934\n",
      "autumn:C(Warengruppe)[T.2]                       -23.3964     21.461     -1.090      0.276     -65.482      18.689\n",
      "autumn:C(Warengruppe)[T.3]                        25.1331     21.461      1.171      0.242     -16.953      67.219\n",
      "autumn:C(Warengruppe)[T.4]                        25.8159     21.720      1.189      0.235     -16.779      68.411\n",
      "autumn:C(Warengruppe)[T.5]                       -43.2249     21.461     -2.014      0.044     -85.311      -1.139\n",
      "autumn:C(Warengruppe)[T.6]                       -15.1216     97.384     -0.155      0.877    -206.098     175.854\n",
      "summer:autumn                                  -5.817e-14   1.63e-14     -3.562      0.000   -9.02e-14   -2.61e-14\n",
      "summer:autumn:C(Warengruppe)[T.2]              -2.743e-14   4.75e-14     -0.578      0.563   -1.21e-13    6.57e-14\n",
      "summer:autumn:C(Warengruppe)[T.3]              -4.579e-15   1.52e-14     -0.302      0.763   -3.43e-14    2.51e-14\n",
      "summer:autumn:C(Warengruppe)[T.4]              -1.112e-14   1.59e-14     -0.698      0.485   -4.24e-14    2.01e-14\n",
      "summer:autumn:C(Warengruppe)[T.5]               3.064e-14   2.26e-14      1.353      0.176   -1.38e-14    7.51e-14\n",
      "summer:autumn:C(Warengruppe)[T.6]               2.769e-14    1.3e-14      2.131      0.033     2.2e-15    5.32e-14\n",
      "StartOfMonth                                     -29.2163     17.291     -1.690      0.091     -63.125       4.693\n",
      "StartOfMonth:C(Warengruppe)[T.2]                  -1.7035     24.453     -0.070      0.944     -49.658      46.251\n",
      "StartOfMonth:C(Warengruppe)[T.3]                  15.0099     24.453      0.614      0.539     -32.945      62.964\n",
      "StartOfMonth:C(Warengruppe)[T.4]                  25.1198     24.787      1.013      0.311     -23.488      73.728\n",
      "StartOfMonth:C(Warengruppe)[T.5]                 -38.5253     24.453     -1.575      0.115     -86.480       9.429\n",
      "StartOfMonth:C(Warengruppe)[T.6]                  -5.0114     45.806     -0.109      0.913     -94.841      84.818\n",
      "summer:StartOfMonth                               35.4444     24.134      1.469      0.142     -11.885      82.773\n",
      "summer:StartOfMonth:C(Warengruppe)[T.2]           -1.8902     34.131     -0.055      0.956     -68.823      65.043\n",
      "summer:StartOfMonth:C(Warengruppe)[T.3]          -13.9063     34.131     -0.407      0.684     -80.840      53.027\n",
      "summer:StartOfMonth:C(Warengruppe)[T.4]          -34.7344     34.515     -1.006      0.314    -102.422      32.953\n",
      "summer:StartOfMonth:C(Warengruppe)[T.5]           24.8001     34.131      0.727      0.468     -42.133      91.733\n",
      "summer:StartOfMonth:C(Warengruppe)[T.6]                 0          0        nan        nan           0           0\n",
      "autumn:StartOfMonth                               41.0805     58.522      0.702      0.483     -73.686     155.847\n",
      "autumn:StartOfMonth:C(Warengruppe)[T.2]          132.9019     82.763      1.606      0.108     -29.402     295.206\n",
      "autumn:StartOfMonth:C(Warengruppe)[T.3]           26.2931     82.763      0.318      0.751    -136.011     188.597\n",
      "autumn:StartOfMonth:C(Warengruppe)[T.4]          -32.4005     82.862     -0.391      0.696    -194.899     130.098\n",
      "autumn:StartOfMonth:C(Warengruppe)[T.5]           77.1332     82.763      0.932      0.351     -85.171     239.437\n",
      "autumn:StartOfMonth:C(Warengruppe)[T.6]                 0          0        nan        nan           0           0\n",
      "summer:autumn:StartOfMonth                              0          0        nan        nan           0           0\n",
      "summer:autumn:StartOfMonth:C(Warengruppe)[T.2]          0          0        nan        nan           0           0\n",
      "summer:autumn:StartOfMonth:C(Warengruppe)[T.3]          0          0        nan        nan           0           0\n",
      "summer:autumn:StartOfMonth:C(Warengruppe)[T.4]          0          0        nan        nan           0           0\n",
      "summer:autumn:StartOfMonth:C(Warengruppe)[T.5]          0          0        nan        nan           0           0\n",
      "summer:autumn:StartOfMonth:C(Warengruppe)[T.6]          0          0        nan        nan           0           0\n",
      "==============================================================================\n",
      "Omnibus:                     2996.847   Durbin-Watson:                   1.657\n",
      "Prob(Omnibus):                  0.000   Jarque-Bera (JB):          1128958.964\n",
      "Skew:                           7.559   Prob(JB):                         0.00\n",
      "Kurtosis:                     113.352   Cond. No.                     8.40e+16\n",
      "==============================================================================\n",
      "\n",
      "Notes:\n",
      "[1] Standard Errors assume that the covariance matrix of the errors is correctly specified.\n",
      "[2] The smallest eigenvalue is 4.96e-31. This might indicate that there are\n",
      "strong multicollinearity problems or that the design matrix is singular.\n"
     ]
    }
   ],
   "source": [
    "import statsmodels.formula.api as smf\n",
    "\n",
    "# Fit the linear model\n",
    "mod = smf.ols('Umsatz ~ summer * autumn * StartOfMonth * C(Warengruppe)', data=df).fit()\n",
    "\n",
    "# Print the summary\n",
    "print(mod.summary())"
   ]
  },
  {
   "cell_type": "code",
   "execution_count": null,
   "metadata": {},
   "outputs": [],
   "source": []
  }
 ],
 "metadata": {
  "kernelspec": {
   "display_name": "Python 3",
   "language": "python",
   "name": "python3"
  },
  "language_info": {
   "codemirror_mode": {
    "name": "ipython",
    "version": 3
   },
   "file_extension": ".py",
   "mimetype": "text/x-python",
   "name": "python",
   "nbconvert_exporter": "python",
   "pygments_lexer": "ipython3",
   "version": "3.10.13"
  }
 },
 "nbformat": 4,
 "nbformat_minor": 2
}
