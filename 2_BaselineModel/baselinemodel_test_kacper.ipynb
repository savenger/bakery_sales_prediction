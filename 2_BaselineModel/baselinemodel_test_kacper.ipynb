{
  "nbformat": 4,
  "nbformat_minor": 0,
  "metadata": {
    "colab": {
      "provenance": [],
      "gpuType": "T4"
    },
    "kernelspec": {
      "name": "python3",
      "display_name": "Python 3"
    },
    "language_info": {
      "name": "python"
    }
  },
  "cells": [
    {
      "cell_type": "code",
      "execution_count": null,
      "metadata": {
        "collapsed": true,
        "id": "p_FgBUTpKJOe"
      },
      "outputs": [],
      "source": [
        "!wget https://raw.githubusercontent.com/opencampus-sh/einfuehrung-in-data-science-und-ml/main/wetter.csv\n",
        "!wget https://raw.githubusercontent.com/opencampus-sh/einfuehrung-in-data-science-und-ml/main/kiwo.csv\n",
        "!wget https://raw.githubusercontent.com/opencampus-sh/einfuehrung-in-data-science-und-ml/main/umsatzdaten_gekuerzt.csv"
      ]
    },
    {
      "cell_type": "code",
      "source": [
        "import pandas as pd\n",
        "import numpy as np\n",
        "import matplotlib.pyplot as plt\n",
        "\n",
        "weather_df = pd.read_csv(\"wetter.csv\")\n",
        "kiwo_df = pd.read_csv(\"kiwo.csv\")\n",
        "sales_df = pd.read_csv(\"umsatzdaten_gekuerzt.csv\")\n",
        "holidays_df = pd.read_csv(\"holidays.csv\")\n",
        "\n",
        "print(\"Weather\")\n",
        "print(f\" has {len(weather_df)} rows\")\n",
        "print(weather_df.head())\n",
        "print(\"Kieler Woche\")\n",
        "print(f\" has {len(kiwo_df)} rows\")\n",
        "print(kiwo_df.head())\n",
        "print(\"Sales\")\n",
        "print(f\" has {len(sales_df)} rows\")\n",
        "print(sales_df.head())\n",
        "print(\"Holidays\")\n",
        "print(f\" has {len(holidays_df)} rows\")\n",
        "print(holidays_df.head())\n"
      ],
      "metadata": {
        "colab": {
          "base_uri": "https://localhost:8080/"
        },
        "id": "b_235Mb2KSbE",
        "outputId": "7e7f2b1f-2399-4b63-944b-2d5b66bdf0de"
      },
      "execution_count": 39,
      "outputs": [
        {
          "output_type": "stream",
          "name": "stdout",
          "text": [
            "Weather\n",
            " has 2601 rows\n",
            "        Datum  Bewoelkung  Temperatur  Windgeschwindigkeit  Wettercode\n",
            "0  2012-01-01         8.0      9.8250                   14        58.0\n",
            "1  2012-01-02         7.0      7.4375                   12         NaN\n",
            "2  2012-01-03         8.0      5.5375                   18        63.0\n",
            "3  2012-01-04         4.0      5.6875                   19        80.0\n",
            "4  2012-01-05         6.0      5.3000                   23        80.0\n",
            "Kieler Woche\n",
            " has 72 rows\n",
            "        Datum  KielerWoche\n",
            "0  2012-06-16            1\n",
            "1  2012-06-17            1\n",
            "2  2012-06-18            1\n",
            "3  2012-06-19            1\n",
            "4  2012-06-20            1\n",
            "Sales\n",
            " has 9334 rows\n",
            "        Datum  Warengruppe      Umsatz\n",
            "0  2013-07-01            1  148.828353\n",
            "1  2013-07-02            1  159.793757\n",
            "2  2013-07-03            1  111.885594\n",
            "3  2013-07-04            1  168.864941\n",
            "4  2013-07-05            1  171.280754\n",
            "Holidays\n",
            " has 577 rows\n",
            "         date  summer  autumn  christmas  winter  easter  pentecoast\n",
            "0  2013-06-24       1       0          0       0       0           0\n",
            "1  2013-06-25       1       0          0       0       0           0\n",
            "2  2013-06-26       1       0          0       0       0           0\n",
            "3  2013-06-27       1       0          0       0       0           0\n",
            "4  2013-06-28       1       0          0       0       0           0\n"
          ]
        }
      ]
    },
    {
      "cell_type": "code",
      "source": [
        "df = weather_df.merge(kiwo_df, on=\"Datum\", how=\"left\").merge(sales_df, on=\"Datum\").merge(holidays_df, left_on=\"Datum\", right_on=\"date\", suffixes=(\"\", \"holiday_\",))\n",
        "df.fillna({\"KielerWoche\": 0, \"holiday_sommer\": 0, \"holiday_autumn\": 0, \"holiday_christmas\": 0, \"holiday_winter\": 0, \"holiday_easter\": 0, \"holiday_pentecoast\": 0}, inplace=True)\n",
        "print(df.head())"
      ],
      "metadata": {
        "colab": {
          "base_uri": "https://localhost:8080/"
        },
        "id": "OUvLXR-iKU9N",
        "outputId": "07d644a1-1899-4222-ee71-dd5e82e0e36d"
      },
      "execution_count": 40,
      "outputs": [
        {
          "output_type": "stream",
          "name": "stdout",
          "text": [
            "        Datum  Bewoelkung  Temperatur  Windgeschwindigkeit  Wettercode  \\\n",
            "0  2013-07-01         6.0     17.8375                   15        20.0   \n",
            "1  2013-07-01         6.0     17.8375                   15        20.0   \n",
            "2  2013-07-01         6.0     17.8375                   15        20.0   \n",
            "3  2013-07-01         6.0     17.8375                   15        20.0   \n",
            "4  2013-07-01         6.0     17.8375                   15        20.0   \n",
            "\n",
            "   KielerWoche  Warengruppe      Umsatz        date  summer  autumn  \\\n",
            "0          0.0            1  148.828353  2013-07-01       1       0   \n",
            "1          0.0            2  535.856285  2013-07-01       1       0   \n",
            "2          0.0            3  201.198426  2013-07-01       1       0   \n",
            "3          0.0            4   65.890169  2013-07-01       1       0   \n",
            "4          0.0            5  317.475875  2013-07-01       1       0   \n",
            "\n",
            "   christmas  winter  easter  pentecoast  \n",
            "0          0       0       0           0  \n",
            "1          0       0       0           0  \n",
            "2          0       0       0           0  \n",
            "3          0       0       0           0  \n",
            "4          0       0       0           0  \n"
          ]
        }
      ]
    },
    {
      "cell_type": "code",
      "source": [
        "# Features\n",
        "#df[\"StartOfMonth\"] = df[df[\"Datum_dt\"].dt.day < 7]\n",
        "df['Datum_dt'] = pd.to_datetime(df['Datum'])\n",
        "df[\"StartOfMonth\"] = np.where(df[\"Datum_dt\"].dt.day < 7, 1, 0)"
      ],
      "metadata": {
        "id": "mnXtYKT4KXGe"
      },
      "execution_count": 41,
      "outputs": []
    },
    {
      "cell_type": "code",
      "source": [
        "# Split (train and validation)\n",
        "\n",
        "train_df = df[(df[\"Datum_dt\"] >= \"01.07.2013\") & (df[\"Datum_dt\"] <= \"31.07.2017\")]\n",
        "validation_df = df[(df[\"Datum_dt\"] >= \"01.08.2017\") & (df[\"Datum_dt\"] <= \"31.07.2018\")]\n",
        "\n",
        "print(f\"Training Dataset length: {len(train_df)}\")\n",
        "print(f\"Validation Dataset length: {len(validation_df)}\")"
      ],
      "metadata": {
        "colab": {
          "base_uri": "https://localhost:8080/"
        },
        "id": "fWCf0tRmKZkB",
        "outputId": "e6d12707-cba0-4070-94ab-24e11a8ae925"
      },
      "execution_count": 42,
      "outputs": [
        {
          "output_type": "stream",
          "name": "stdout",
          "text": [
            "Training Dataset length: 1694\n",
            "Validation Dataset length: 605\n"
          ]
        }
      ]
    },
    {
      "cell_type": "code",
      "source": [
        "import statsmodels.formula.api as smf\n",
        "\n",
        "# Fit the linear model\n",
        "mod = smf.ols('Umsatz ~ summer * autumn * StartOfMonth * C(Warengruppe)', data=df).fit()\n",
        "\n",
        "# Print the summary\n",
        "print(mod.summary())"
      ],
      "metadata": {
        "colab": {
          "base_uri": "https://localhost:8080/"
        },
        "id": "IjYz9VzVKcGU",
        "outputId": "8a938215-085b-4dcf-d94b-6366d730c9d5"
      },
      "execution_count": 43,
      "outputs": [
        {
          "output_type": "stream",
          "name": "stdout",
          "text": [
            "                            OLS Regression Results                            \n",
            "==============================================================================\n",
            "Dep. Variable:                 Umsatz   R-squared:                       0.737\n",
            "Model:                            OLS   Adj. R-squared:                  0.733\n",
            "Method:                 Least Squares   F-statistic:                     188.1\n",
            "Date:                Mon, 24 Jun 2024   Prob (F-statistic):               0.00\n",
            "Time:                        22:41:23   Log-Likelihood:                -13018.\n",
            "No. Observations:                2184   AIC:                         2.610e+04\n",
            "Df Residuals:                    2151   BIC:                         2.629e+04\n",
            "Df Model:                          32                                         \n",
            "Covariance Type:            nonrobust                                         \n",
            "==================================================================================================================\n",
            "                                                     coef    std err          t      P>|t|      [0.025      0.975]\n",
            "------------------------------------------------------------------------------------------------------------------\n",
            "Intercept                                        148.5705      9.274     16.020      0.000     130.383     166.758\n",
            "C(Warengruppe)[T.2]                              281.4027     13.116     21.456      0.000     255.682     307.123\n",
            "C(Warengruppe)[T.3]                               10.1409     13.116      0.773      0.439     -15.579      35.861\n",
            "C(Warengruppe)[T.4]                              -61.9052     13.536     -4.573      0.000     -88.451     -35.359\n",
            "C(Warengruppe)[T.5]                              187.1581     13.116     14.270      0.000     161.438     212.879\n",
            "C(Warengruppe)[T.6]                              -83.5257     19.861     -4.206      0.000    -122.474     -44.577\n",
            "summer                                            -0.6076     11.580     -0.052      0.958     -23.317      22.102\n",
            "summer:C(Warengruppe)[T.2]                       166.0978     16.377     10.142      0.000     133.982     198.214\n",
            "summer:C(Warengruppe)[T.3]                       126.9563     16.377      7.752      0.000      94.840     159.072\n",
            "summer:C(Warengruppe)[T.4]                         2.7312     16.824      0.162      0.871     -30.261      35.723\n",
            "summer:C(Warengruppe)[T.5]                       -10.6745     16.377     -0.652      0.515     -42.790      21.441\n",
            "summer:C(Warengruppe)[T.6]                      7.413e-14   1.71e-13      0.433      0.665   -2.62e-13     4.1e-13\n",
            "autumn                                           -26.8255     15.175     -1.768      0.077     -56.585       2.934\n",
            "autumn:C(Warengruppe)[T.2]                       -23.3964     21.461     -1.090      0.276     -65.482      18.689\n",
            "autumn:C(Warengruppe)[T.3]                        25.1331     21.461      1.171      0.242     -16.953      67.219\n",
            "autumn:C(Warengruppe)[T.4]                        25.8159     21.720      1.189      0.235     -16.779      68.411\n",
            "autumn:C(Warengruppe)[T.5]                       -43.2249     21.461     -2.014      0.044     -85.311      -1.139\n",
            "autumn:C(Warengruppe)[T.6]                       -15.1216     97.384     -0.155      0.877    -206.098     175.854\n",
            "summer:autumn                                  -5.817e-14   1.63e-14     -3.562      0.000   -9.02e-14   -2.61e-14\n",
            "summer:autumn:C(Warengruppe)[T.2]              -2.743e-14   4.75e-14     -0.578      0.563   -1.21e-13    6.57e-14\n",
            "summer:autumn:C(Warengruppe)[T.3]              -4.579e-15   1.52e-14     -0.302      0.763   -3.43e-14    2.51e-14\n",
            "summer:autumn:C(Warengruppe)[T.4]              -1.112e-14   1.59e-14     -0.698      0.485   -4.24e-14    2.01e-14\n",
            "summer:autumn:C(Warengruppe)[T.5]               3.064e-14   2.26e-14      1.353      0.176   -1.38e-14    7.51e-14\n",
            "summer:autumn:C(Warengruppe)[T.6]               2.769e-14    1.3e-14      2.131      0.033     2.2e-15    5.32e-14\n",
            "StartOfMonth                                     -29.2163     17.291     -1.690      0.091     -63.125       4.693\n",
            "StartOfMonth:C(Warengruppe)[T.2]                  -1.7035     24.453     -0.070      0.944     -49.658      46.251\n",
            "StartOfMonth:C(Warengruppe)[T.3]                  15.0099     24.453      0.614      0.539     -32.945      62.964\n",
            "StartOfMonth:C(Warengruppe)[T.4]                  25.1198     24.787      1.013      0.311     -23.488      73.728\n",
            "StartOfMonth:C(Warengruppe)[T.5]                 -38.5253     24.453     -1.575      0.115     -86.480       9.429\n",
            "StartOfMonth:C(Warengruppe)[T.6]                  -5.0114     45.806     -0.109      0.913     -94.841      84.818\n",
            "summer:StartOfMonth                               35.4444     24.134      1.469      0.142     -11.885      82.773\n",
            "summer:StartOfMonth:C(Warengruppe)[T.2]           -1.8902     34.131     -0.055      0.956     -68.823      65.043\n",
            "summer:StartOfMonth:C(Warengruppe)[T.3]          -13.9063     34.131     -0.407      0.684     -80.840      53.027\n",
            "summer:StartOfMonth:C(Warengruppe)[T.4]          -34.7344     34.515     -1.006      0.314    -102.422      32.953\n",
            "summer:StartOfMonth:C(Warengruppe)[T.5]           24.8001     34.131      0.727      0.468     -42.133      91.733\n",
            "summer:StartOfMonth:C(Warengruppe)[T.6]                 0          0        nan        nan           0           0\n",
            "autumn:StartOfMonth                               41.0805     58.522      0.702      0.483     -73.686     155.847\n",
            "autumn:StartOfMonth:C(Warengruppe)[T.2]          132.9019     82.763      1.606      0.108     -29.402     295.206\n",
            "autumn:StartOfMonth:C(Warengruppe)[T.3]           26.2931     82.763      0.318      0.751    -136.011     188.597\n",
            "autumn:StartOfMonth:C(Warengruppe)[T.4]          -32.4005     82.862     -0.391      0.696    -194.899     130.098\n",
            "autumn:StartOfMonth:C(Warengruppe)[T.5]           77.1332     82.763      0.932      0.351     -85.171     239.437\n",
            "autumn:StartOfMonth:C(Warengruppe)[T.6]                 0          0        nan        nan           0           0\n",
            "summer:autumn:StartOfMonth                              0          0        nan        nan           0           0\n",
            "summer:autumn:StartOfMonth:C(Warengruppe)[T.2]          0          0        nan        nan           0           0\n",
            "summer:autumn:StartOfMonth:C(Warengruppe)[T.3]          0          0        nan        nan           0           0\n",
            "summer:autumn:StartOfMonth:C(Warengruppe)[T.4]          0          0        nan        nan           0           0\n",
            "summer:autumn:StartOfMonth:C(Warengruppe)[T.5]          0          0        nan        nan           0           0\n",
            "summer:autumn:StartOfMonth:C(Warengruppe)[T.6]          0          0        nan        nan           0           0\n",
            "==============================================================================\n",
            "Omnibus:                     2996.847   Durbin-Watson:                   1.657\n",
            "Prob(Omnibus):                  0.000   Jarque-Bera (JB):          1128958.964\n",
            "Skew:                           7.559   Prob(JB):                         0.00\n",
            "Kurtosis:                     113.352   Cond. No.                     8.40e+16\n",
            "==============================================================================\n",
            "\n",
            "Notes:\n",
            "[1] Standard Errors assume that the covariance matrix of the errors is correctly specified.\n",
            "[2] The smallest eigenvalue is 4.96e-31. This might indicate that there are\n",
            "strong multicollinearity problems or that the design matrix is singular.\n"
          ]
        }
      ]
    },
    {
      "cell_type": "code",
      "source": [
        "import statsmodels.formula.api as smf\n",
        "\n",
        "# Fit the linear model\n",
        "mod = smf.ols('Umsatz ~ summer + autumn + StartOfMonth + C(Warengruppe)', data=df).fit()\n",
        "\n",
        "# Print the summary\n",
        "print(mod.summary())"
      ],
      "metadata": {
        "colab": {
          "base_uri": "https://localhost:8080/"
        },
        "id": "rgz0FHOVMDvU",
        "outputId": "497f65f7-3fd2-4ede-fd77-e41e90e7fa13"
      },
      "execution_count": 9,
      "outputs": [
        {
          "output_type": "stream",
          "name": "stdout",
          "text": [
            "                            OLS Regression Results                            \n",
            "==============================================================================\n",
            "Dep. Variable:                 Umsatz   R-squared:                       0.692\n",
            "Model:                            OLS   Adj. R-squared:                  0.691\n",
            "Method:                 Least Squares   F-statistic:                     612.3\n",
            "Date:                Mon, 24 Jun 2024   Prob (F-statistic):               0.00\n",
            "Time:                        21:48:38   Log-Likelihood:                -13188.\n",
            "No. Observations:                2184   AIC:                         2.639e+04\n",
            "Df Residuals:                    2175   BIC:                         2.645e+04\n",
            "Df Model:                           8                                         \n",
            "Covariance Type:            nonrobust                                         \n",
            "=======================================================================================\n",
            "                          coef    std err          t      P>|t|      [0.025      0.975]\n",
            "---------------------------------------------------------------------------------------\n",
            "Intercept             114.0847      5.996     19.025      0.000     102.325     125.844\n",
            "C(Warengruppe)[T.2]   363.8640      6.893     52.789      0.000     350.347     377.381\n",
            "C(Warengruppe)[T.3]    81.1021      6.893     11.766      0.000      67.585      94.619\n",
            "C(Warengruppe)[T.4]   -54.8299      7.006     -7.826      0.000     -68.570     -41.090\n",
            "C(Warengruppe)[T.5]   170.5501      6.893     24.743      0.000     157.033     184.067\n",
            "C(Warengruppe)[T.6]   -53.4751     17.888     -2.989      0.003     -88.555     -18.395\n",
            "summer                 64.6083      4.919     13.134      0.000      54.961      74.255\n",
            "autumn                -21.3628      6.923     -3.086      0.002     -34.940      -7.786\n",
            "StartOfMonth          -11.0477      5.647     -1.956      0.051     -22.122       0.027\n",
            "==============================================================================\n",
            "Omnibus:                     2794.170   Durbin-Watson:                   1.713\n",
            "Prob(Omnibus):                  0.000   Jarque-Bera (JB):           801079.006\n",
            "Skew:                           6.686   Prob(JB):                         0.00\n",
            "Kurtosis:                      95.867   Cond. No.                         10.4\n",
            "==============================================================================\n",
            "\n",
            "Notes:\n",
            "[1] Standard Errors assume that the covariance matrix of the errors is correctly specified.\n"
          ]
        }
      ]
    },
    {
      "cell_type": "code",
      "source": [
        "import statsmodels.formula.api as smf\n",
        "\n",
        "# Fit the linear model\n",
        "#mod = smf.ols('Umsatz ~ summer + autumn + StartOfMonth + C(Warengruppe)', data=df).fit()\n",
        "mod = smf.ols('Umsatz ~ summer + autumn + StartOfMonth + C(Warengruppe) + summer:C(Warengruppe) + autumn:C(Warengruppe)', data=df).fit()\n",
        "\n",
        "# Print the summary\n",
        "print(mod.summary())\n",
        "\n"
      ],
      "metadata": {
        "colab": {
          "base_uri": "https://localhost:8080/"
        },
        "id": "IdRgQ4Q8OPAx",
        "outputId": "b8259382-67a2-4626-8026-c588c38a4464"
      },
      "execution_count": 10,
      "outputs": [
        {
          "output_type": "stream",
          "name": "stdout",
          "text": [
            "                            OLS Regression Results                            \n",
            "==============================================================================\n",
            "Dep. Variable:                 Umsatz   R-squared:                       0.733\n",
            "Model:                            OLS   Adj. R-squared:                  0.731\n",
            "Method:                 Least Squares   F-statistic:                     350.6\n",
            "Date:                Mon, 24 Jun 2024   Prob (F-statistic):               0.00\n",
            "Time:                        21:49:09   Log-Likelihood:                -13032.\n",
            "No. Observations:                2184   AIC:                         2.610e+04\n",
            "Df Residuals:                    2166   BIC:                         2.620e+04\n",
            "Df Model:                          17                                         \n",
            "Covariance Type:            nonrobust                                         \n",
            "==============================================================================================\n",
            "                                 coef    std err          t      P>|t|      [0.025      0.975]\n",
            "----------------------------------------------------------------------------------------------\n",
            "Intercept                    143.3736      7.994     17.935      0.000     127.696     159.051\n",
            "C(Warengruppe)[T.2]          280.9127     11.101     25.306      0.000     259.144     302.681\n",
            "C(Warengruppe)[T.3]           14.4588     11.101      1.303      0.193      -7.310      36.228\n",
            "C(Warengruppe)[T.4]          -54.5336     11.369     -4.797      0.000     -76.829     -32.238\n",
            "C(Warengruppe)[T.5]          176.0755     11.101     15.862      0.000     154.307     197.844\n",
            "C(Warengruppe)[T.6]          -82.2848     17.860     -4.607      0.000    -117.310     -47.260\n",
            "summer                         7.5375     10.107      0.746      0.456     -12.283      27.358\n",
            "summer:C(Warengruppe)[T.2]   165.9782     14.267     11.634      0.000     138.001     193.956\n",
            "summer:C(Warengruppe)[T.3]   122.8256     14.267      8.609      0.000      94.848     150.803\n",
            "summer:C(Warengruppe)[T.4]    -6.2206     14.568     -0.427      0.669     -34.790      22.349\n",
            "summer:C(Warengruppe)[T.5]    -1.9202     14.267     -0.135      0.893     -29.898      26.057\n",
            "summer:C(Warengruppe)[T.6]  3.503e-14   2.51e-14      1.396      0.163   -1.42e-14    8.42e-14\n",
            "autumn                       -20.5664     14.199     -1.448      0.148     -48.412       7.279\n",
            "autumn:C(Warengruppe)[T.2]   -16.8510     20.000     -0.843      0.400     -56.072      22.370\n",
            "autumn:C(Warengruppe)[T.3]    22.7215     20.000      1.136      0.256     -16.500      61.942\n",
            "autumn:C(Warengruppe)[T.4]    18.1083     20.150      0.899      0.369     -21.407      57.624\n",
            "autumn:C(Warengruppe)[T.5]   -30.3603     20.000     -1.518      0.129     -69.581       8.861\n",
            "autumn:C(Warengruppe)[T.6]   -17.4247     97.223     -0.179      0.858    -208.085     173.235\n",
            "StartOfMonth                 -11.1509      5.269     -2.116      0.034     -21.484      -0.818\n",
            "==============================================================================\n",
            "Omnibus:                     3023.974   Durbin-Watson:                   1.661\n",
            "Prob(Omnibus):                  0.000   Jarque-Bera (JB):          1175200.886\n",
            "Skew:                           7.684   Prob(JB):                         0.00\n",
            "Kurtosis:                     115.597   Cond. No.                     2.66e+17\n",
            "==============================================================================\n",
            "\n",
            "Notes:\n",
            "[1] Standard Errors assume that the covariance matrix of the errors is correctly specified.\n",
            "[2] The smallest eigenvalue is 4.9e-32. This might indicate that there are\n",
            "strong multicollinearity problems or that the design matrix is singular.\n"
          ]
        }
      ]
    },
    {
      "cell_type": "code",
      "source": [
        "df['log_Umsatz'] = np.log(df['Umsatz'])\n",
        "mod = smf.ols('log_Umsatz ~ summer + autumn + StartOfMonth + C(Warengruppe) + summer:C(Warengruppe) + autumn:C(Warengruppe)', data=df).fit()\n",
        "print(mod.summary())\n"
      ],
      "metadata": {
        "colab": {
          "base_uri": "https://localhost:8080/"
        },
        "id": "XvgmWMbePPGY",
        "outputId": "a75002a7-3f68-443f-998d-9dfc55f3cbf0"
      },
      "execution_count": 13,
      "outputs": [
        {
          "output_type": "stream",
          "name": "stdout",
          "text": [
            "                            OLS Regression Results                            \n",
            "==============================================================================\n",
            "Dep. Variable:             log_Umsatz   R-squared:                       0.834\n",
            "Model:                            OLS   Adj. R-squared:                  0.832\n",
            "Method:                 Least Squares   F-statistic:                     638.4\n",
            "Date:                Mon, 24 Jun 2024   Prob (F-statistic):               0.00\n",
            "Time:                        21:55:17   Log-Likelihood:                -404.47\n",
            "No. Observations:                2184   AIC:                             844.9\n",
            "Df Residuals:                    2166   BIC:                             947.3\n",
            "Df Model:                          17                                         \n",
            "Covariance Type:            nonrobust                                         \n",
            "==============================================================================================\n",
            "                                 coef    std err          t      P>|t|      [0.025      0.975]\n",
            "----------------------------------------------------------------------------------------------\n",
            "Intercept                      4.8563      0.025    197.036      0.000       4.808       4.905\n",
            "C(Warengruppe)[T.2]            1.1579      0.034     33.833      0.000       1.091       1.225\n",
            "C(Warengruppe)[T.3]            0.1338      0.034      3.910      0.000       0.067       0.201\n",
            "C(Warengruppe)[T.4]           -0.4479      0.035    -12.779      0.000      -0.517      -0.379\n",
            "C(Warengruppe)[T.5]            0.7826      0.034     22.867      0.000       0.715       0.850\n",
            "C(Warengruppe)[T.6]           -0.9118      0.055    -16.558      0.000      -1.020      -0.804\n",
            "summer                         0.1200      0.031      3.850      0.000       0.059       0.181\n",
            "summer:C(Warengruppe)[T.2]     0.2460      0.044      5.592      0.000       0.160       0.332\n",
            "summer:C(Warengruppe)[T.3]     0.5262      0.044     11.964      0.000       0.440       0.612\n",
            "summer:C(Warengruppe)[T.4]    -0.0857      0.045     -1.908      0.057      -0.174       0.002\n",
            "summer:C(Warengruppe)[T.5]     0.0122      0.044      0.278      0.781      -0.074       0.098\n",
            "summer:C(Warengruppe)[T.6] -8.964e-18   7.74e-17     -0.116      0.908   -1.61e-16    1.43e-16\n",
            "autumn                        -0.0878      0.044     -2.006      0.045      -0.174      -0.002\n",
            "autumn:C(Warengruppe)[T.2]     0.0100      0.062      0.162      0.871      -0.111       0.131\n",
            "autumn:C(Warengruppe)[T.3]     0.1358      0.062      2.203      0.028       0.015       0.257\n",
            "autumn:C(Warengruppe)[T.4]     0.1036      0.062      1.667      0.096      -0.018       0.225\n",
            "autumn:C(Warengruppe)[T.5]     0.0270      0.062      0.438      0.662      -0.094       0.148\n",
            "autumn:C(Warengruppe)[T.6]    -0.7170      0.300     -2.392      0.017      -1.305      -0.129\n",
            "StartOfMonth                  -0.0404      0.016     -2.489      0.013      -0.072      -0.009\n",
            "==============================================================================\n",
            "Omnibus:                      283.452   Durbin-Watson:                   1.573\n",
            "Prob(Omnibus):                  0.000   Jarque-Bera (JB):             1759.356\n",
            "Skew:                           0.436   Prob(JB):                         0.00\n",
            "Kurtosis:                       7.309   Cond. No.                     2.66e+17\n",
            "==============================================================================\n",
            "\n",
            "Notes:\n",
            "[1] Standard Errors assume that the covariance matrix of the errors is correctly specified.\n",
            "[2] The smallest eigenvalue is 4.9e-32. This might indicate that there are\n",
            "strong multicollinearity problems or that the design matrix is singular.\n"
          ]
        }
      ]
    },
    {
      "cell_type": "code",
      "source": [],
      "metadata": {
        "id": "x5bJwGOaSQJj"
      },
      "execution_count": null,
      "outputs": []
    },
    {
      "cell_type": "markdown",
      "source": [
        "Multikollinearität durch Berechnung der Variance Inflation Factors (VIF)"
      ],
      "metadata": {
        "id": "AtWfe0cGSj5S"
      }
    },
    {
      "cell_type": "code",
      "source": [
        "from statsmodels.stats.outliers_influence import variance_inflation_factor\n",
        "from statsmodels.tools.tools import add_constant"
      ],
      "metadata": {
        "id": "lQtCtDLrSmq0"
      },
      "execution_count": 16,
      "outputs": []
    },
    {
      "cell_type": "code",
      "source": [
        "def calculate_vif(X):\n",
        "    X = add_constant(X)\n",
        "    vif_data = pd.DataFrame()\n",
        "    vif_data[\"Variable\"] = X.columns\n",
        "    vif_data[\"VIF\"] = [variance_inflation_factor(X.values, i) for i in range(X.shape[1])]\n",
        "    return vif_data"
      ],
      "metadata": {
        "id": "hTnUijg4SqBl"
      },
      "execution_count": 17,
      "outputs": []
    },
    {
      "cell_type": "code",
      "source": [
        "formula = 'log_Umsatz ~ summer + autumn + StartOfMonth + C(Warengruppe) + summer:C(Warengruppe) + autumn:C(Warengruppe)'\n",
        "\n",
        "# Erstellen Sie Dummy-Variablen für kategorische Variablen\n",
        "X = pd.get_dummies(df[['summer', 'autumn', 'StartOfMonth', 'Warengruppe']], drop_first=True)\n",
        "\n",
        "# Fügen Sie Interaktionsterme hinzu\n",
        "for season in ['summer', 'autumn']:\n",
        "    for wg in X.columns[X.columns.str.startswith('Warengruppe_')]:\n",
        "        X[f'{season}:{wg}'] = X[season] * X[wg]\n",
        "\n",
        "vif_results = calculate_vif(X)\n",
        "print(vif_results.sort_values('VIF', ascending=False))\n",
        "\n",
        "vif_results = calculate_vif(X)  # Verwenden Sie die zuvor definierte Funktion\n",
        "plt.figure(figsize=(10, 6))\n",
        "sns.barplot(x='Variable', y='VIF', data=vif_results.sort_values('VIF', ascending=False))\n",
        "plt.xticks(rotation=90)\n",
        "plt.title('Variance Inflation Factors (VIF)')\n",
        "plt.show()"
      ],
      "metadata": {
        "colab": {
          "base_uri": "https://localhost:8080/",
          "height": 768
        },
        "id": "Jal_jIJQStH3",
        "outputId": "3dd4998b-194a-416f-eef3-c50ec92f1376"
      },
      "execution_count": 28,
      "outputs": [
        {
          "output_type": "stream",
          "name": "stdout",
          "text": [
            "       Variable       VIF\n",
            "0         const  8.068587\n",
            "2        autumn  1.269561\n",
            "1        summer  1.244025\n",
            "3  StartOfMonth  1.043404\n",
            "4   Warengruppe  1.001867\n"
          ]
        },
        {
          "output_type": "display_data",
          "data": {
            "text/plain": [
              "<Figure size 1000x600 with 1 Axes>"
            ],
            "image/png": "[encoded data removed]"
          },
          "metadata": {}
        }
      ]
    },
    {
      "cell_type": "markdown",
      "source": [
        "VIF = 1: Keine Korrelation zwischen dieser Variable und den anderen Prädiktorvariablen\n",
        "\n",
        "1 < VIF < 5: Moderate Korrelation"
      ],
      "metadata": {
        "id": "uBZs6_V-TJpv"
      }
    },
    {
      "cell_type": "code",
      "source": [
        "import matplotlib.pyplot as plt\n",
        "import seaborn as sns\n",
        "\n",
        "# Koeffizienten und ihre Konfidenzintervalle extrahieren\n",
        "coef = mod.params\n",
        "conf_int = mod.conf_int()\n",
        "\n",
        "# Dataframe erstellen\n",
        "coef_df = pd.DataFrame({'coef': coef, 'lower': conf_int[0], 'upper': conf_int[1]})\n",
        "\n",
        "# Plot erstellen\n",
        "plt.figure(figsize=(12, 8))\n",
        "sns.pointplot(x=coef_df.index, y='coef', data=coef_df, join=False, color='blue')\n",
        "plt.errorbar(x=range(len(coef_df)), y=coef_df['coef'],\n",
        "             yerr=[coef_df['coef'] - coef_df['lower'], coef_df['upper'] - coef_df['coef']],\n",
        "             fmt='none', color='blue', capsize=3)\n",
        "plt.axhline(y=0, color='r', linestyle='--')\n",
        "plt.xticks(rotation=90)\n",
        "plt.title('Koeffizienten mit Konfidenzintervallen')\n",
        "plt.tight_layout()\n",
        "plt.show()"
      ],
      "metadata": {
        "colab": {
          "base_uri": "https://localhost:8080/",
          "height": 871
        },
        "id": "uz6GgF6eTKXb",
        "outputId": "3423e30d-276e-4d57-9643-2004cae7e2e2"
      },
      "execution_count": 26,
      "outputs": [
        {
          "output_type": "stream",
          "name": "stderr",
          "text": [
            "<ipython-input-26-ecb693a8da32>:13: UserWarning: \n",
            "\n",
            "The `join` parameter is deprecated and will be removed in v0.15.0. You can remove the line between points with `linestyle='none'`.\n",
            "\n",
            "  sns.pointplot(x=coef_df.index, y='coef', data=coef_df, join=False, color='blue')\n"
          ]
        },
        {
          "output_type": "display_data",
          "data": {
            "text/plain": [
              "<Figure size 1200x800 with 1 Axes>"
            ],
            "image/png": "[encoded data removed]"
          },
          "metadata": {}
        }
      ]
    },
    {
      "cell_type": "code",
      "source": [],
      "metadata": {
        "id": "_lzUOP8AhCfd"
      },
      "execution_count": null,
      "outputs": []
    }
  ]
}